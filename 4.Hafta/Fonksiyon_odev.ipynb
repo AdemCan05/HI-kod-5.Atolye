{
 "cells": [
  {
   "cell_type": "markdown",
   "metadata": {},
   "source": [
    "#### Ödev 1\n",
    "Kullanıcıdan pi değeri ve yarıçap bilgisi alarak dairenin alanını hesaplayan bir fonksiyon oluşturulur."
   ]
  },
  {
   "cell_type": "code",
   "execution_count": 13,
   "metadata": {},
   "outputs": [
    {
     "name": "stdout",
     "output_type": "stream",
     "text": [
      "The area of the circle is: 27.0\n"
     ]
    }
   ],
   "source": [
    "def calculate_area(radius, pi):\n",
    "    return pi * radius * radius\n",
    "\n",
    "def main():\n",
    "    radius = float(input(\"Enter the radius of the circle: \"))\n",
    "    pi = float(input(\"Enter the value of pi: \"))\n",
    "    area = calculate_area(radius, pi)\n",
    "    print(\"The area of the circle is:\", area)\n",
    "\n",
    "main()"
   ]
  },
  {
   "cell_type": "markdown",
   "metadata": {},
   "source": [
    "#### Ödev 2\n",
    "\n",
    "Faktöriyel adında fonksiyon oluşturulur. Döngü kullanarak parametre olarak girilen sayının faktöriyeli hesaplanır. Format metodunu kullanılarak ekrana yazdırılır."
   ]
  },
  {
   "cell_type": "code",
   "execution_count": null,
   "metadata": {},
   "outputs": [
    {
     "name": "stdout",
     "output_type": "stream",
     "text": [
      "The factorial of 5 is 120\n"
     ]
    }
   ],
   "source": [
    "def factorial(n):\n",
    "    if n == 0:\n",
    "        return 1\n",
    "    else:\n",
    "        return n * factorial(n-1)\n",
    "\n",
    "n = int(input(\"Enter a number to calculate its factorial: \"))\n",
    "print(f\"The factorial of {n} is {factorial(n)}\")"
   ]
  },
  {
   "cell_type": "markdown",
   "metadata": {},
   "source": [
    "#### Ödev 3\n",
    "Kişinin fonksiyona doğum yılını vererek kaç yaşında olduğunu hesaplayan bir fonksiyon oluşturun. "
   ]
  },
  {
   "cell_type": "code",
   "execution_count": null,
   "metadata": {},
   "outputs": [
    {
     "name": "stdout",
     "output_type": "stream",
     "text": [
      "Your age is: 20\n"
     ]
    }
   ],
   "source": [
    "import time as t\n",
    "\n",
    "def my_age(by):\n",
    "    year = t.localtime().tm_year\n",
    "    age = year - by\n",
    "    print(\"Your age is:\", age)\n",
    "\n",
    "\n",
    "by = int(input(\"Enter your birth year: \"))\n",
    "my_age(by)\n",
    "\n"
   ]
  },
  {
   "cell_type": "markdown",
   "metadata": {},
   "source": [
    "#### Ödev 4\n",
    "\n",
    "Doğum yılı ve isim bilgisi verilen fonksiyon kişinin emekli olup olmadığını söylesin.(Kişi 65 yaşında ise emekli olur.) Burada yaş hesabını yukarıdaki örnekteki fonksiyonu kullanarak yapsın.(Yani fonksiyon içinde fonksiyon kullanmanızı istiyorum :)) Kişi 65 yaşında ya da daha fazlaysa \"Emekli oldunuz\" yanıtını, 65 yaşından küçükse emekliliğine kaç yıl kaldığını da hesaplayarak \"(isim) emekliliğine (yıl) kaldı.\" yanıtını versin."
   ]
  },
  {
   "cell_type": "code",
   "execution_count": 24,
   "metadata": {},
   "outputs": [
    {
     "name": "stdout",
     "output_type": "stream",
     "text": [
      "Gülizar, You are not retired. You have 6 years left until retirement.\n"
     ]
    }
   ],
   "source": [
    "import time as t\n",
    "\n",
    "def main():\n",
    "    nm = input(\"Enter your name: \")\n",
    "    by = int(input(\"Enter your birth year: \"))\n",
    "    my_age(nm, by)\n",
    "\n",
    "\n",
    "def my_age(nm, by):\n",
    "    year = t.localtime().tm_year\n",
    "    age = year - by\n",
    "    is_retired(nm, age)\n",
    "\n",
    "\n",
    "def is_retired(nm, age,r_age=65):\n",
    "    if age >= r_age:\n",
    "        print(\"You are retired.\")\n",
    "    else:\n",
    "        r_year = r_age - age\n",
    "        print(f\"{nm}, You are not retired. You have {r_year} years left until retirement.\")\n",
    "main()"
   ]
  }
 ],
 "metadata": {
  "kernelspec": {
   "display_name": "base",
   "language": "python",
   "name": "python3"
  },
  "language_info": {
   "codemirror_mode": {
    "name": "ipython",
    "version": 3
   },
   "file_extension": ".py",
   "mimetype": "text/x-python",
   "name": "python",
   "nbconvert_exporter": "python",
   "pygments_lexer": "ipython3",
   "version": "3.13.5"
  }
 },
 "nbformat": 4,
 "nbformat_minor": 2
}
