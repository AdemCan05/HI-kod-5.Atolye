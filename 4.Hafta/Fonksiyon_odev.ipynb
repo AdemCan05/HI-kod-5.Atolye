{
 "cells": [
  {
   "cell_type": "markdown",
   "metadata": {},
   "source": [
    "#### Ödev 1\n",
    "Kullanıcıdan pi değeri ve yarıçap bilgisi alarak dairenin alanını hesaplayan bir fonksiyon oluşturulur."
   ]
  },
  {
   "cell_type": "code",
   "execution_count": 1,
   "metadata": {},
   "outputs": [
    {
     "name": "stdout",
     "output_type": "stream",
     "text": [
      "27.0\n"
     ]
    }
   ],
   "source": [
    "def main():\n",
    "    yariçap= float(input(\"Yarıçap değerini float cinsinden giriniz.\"))\n",
    "    pi = float(input(\"Pi değerini float cinsinden giriniz.\"))\n",
    "    print(daire_alan(yariçap,pi))\n",
    "\n",
    "def daire_alan(yariçap,pi):\n",
    "    toplam_alan = pi * yariçap**2\n",
    "    return toplam_alan\n",
    "\n",
    "main()\n"
   ]
  },
  {
   "cell_type": "markdown",
   "metadata": {},
   "source": [
    "#### Ödev 2\n",
    "\n",
    "Faktöriyel adında fonksiyon oluşturulur. Döngü kullanarak parametre olarak girilen sayının faktöriyeli hesaplanır. Format metodunu kullanılarak ekrana yazdırılır."
   ]
  },
  {
   "cell_type": "code",
   "execution_count": 5,
   "metadata": {},
   "outputs": [
    {
     "name": "stdout",
     "output_type": "stream",
     "text": [
      "120\n"
     ]
    }
   ],
   "source": [
    "def main():\n",
    "    try:\n",
    "        sayi = int(input(\"Faktöriyeli alınacak bir sayı giriniz: \"))\n",
    "        print(faktöriyel(sayi))\n",
    "    except ValueError:\n",
    "        print(\"bir tam sayı girmelisiniz. \")\n",
    "    \n",
    "def faktöriyel(n):\n",
    "    if n == 0:\n",
    "        return 1\n",
    "    else:\n",
    "        return (n* faktöriyel(n-1))\n",
    "main()"
   ]
  },
  {
   "cell_type": "markdown",
   "metadata": {},
   "source": [
    "#### Ödev 3\n",
    "Kişinin fonksiyona doğum yılını vererek kaç yaşında olduğunu hesaplayan bir fonksiyon oluşturun. "
   ]
  },
  {
   "cell_type": "code",
   "execution_count": 6,
   "metadata": {},
   "outputs": [
    {
     "name": "stdout",
     "output_type": "stream",
     "text": [
      "19\n"
     ]
    }
   ],
   "source": [
    "def main():\n",
    "    dogum_yili = int(input(\"Doğum yılınızı giriniz: \"))\n",
    "    print(yas_hesaplayici(dogum_yili))\n",
    "def yas_hesaplayici(dogum_yili):\n",
    "    şimdiki_yil = 2024\n",
    "    yas = şimdiki_yil - dogum_yili\n",
    "    return yas   \n",
    "main()"
   ]
  },
  {
   "cell_type": "markdown",
   "metadata": {},
   "source": [
    "#### Ödev 4\n",
    "\n",
    "Doğum yılı ve isim bilgisi verilen fonksiyon kişinin emekli olup olmadığını söylesin.(Kişi 65 yaşında ise emekli olur.) Burada yaş hesabını yukarıdaki örnekteki fonksiyonu kullanarak yapsın.(Yani fonksiyon içinde fonksiyon kullanmanızı istiyorum :)) Kişi 65 yaşında ya da daha fazlaysa \"Emekli oldunuz\" yanıtını, 65 yaşından küçükse emekliliğine kaç yıl kaldığını da hesaplayarak \"(isim) emekliliğine (yıl) kaldı.\" yanıtını versin."
   ]
  },
  {
   "cell_type": "code",
   "execution_count": null,
   "metadata": {},
   "outputs": [
    {
     "ename": "TypeError",
     "evalue": "emekli_hesaplayici() missing 1 required positional argument: 'isim'",
     "output_type": "error",
     "traceback": [
      "\u001b[1;31m---------------------------------------------------------------------------\u001b[0m",
      "\u001b[1;31mTypeError\u001b[0m                                 Traceback (most recent call last)",
      "Cell \u001b[1;32mIn[8], line 16\u001b[0m\n\u001b[0;32m     14\u001b[0m         kalan_yil \u001b[38;5;241m=\u001b[39m \u001b[38;5;241m65\u001b[39m \u001b[38;5;241m-\u001b[39m yas\n\u001b[0;32m     15\u001b[0m         \u001b[38;5;28;01mreturn\u001b[39;00m \u001b[38;5;124mf\u001b[39m\u001b[38;5;124m\"\u001b[39m\u001b[38;5;132;01m{\u001b[39;00misim\u001b[38;5;132;01m}\u001b[39;00m\u001b[38;5;124m emekliğine \u001b[39m\u001b[38;5;132;01m{\u001b[39;00mkalan_yil\u001b[38;5;132;01m}\u001b[39;00m\u001b[38;5;124m kaldı.\u001b[39m\u001b[38;5;124m\"\u001b[39m\n\u001b[1;32m---> 16\u001b[0m \u001b[43mmain\u001b[49m\u001b[43m(\u001b[49m\u001b[43m)\u001b[49m\n",
      "Cell \u001b[1;32mIn[8], line 4\u001b[0m, in \u001b[0;36mmain\u001b[1;34m()\u001b[0m\n\u001b[0;32m      2\u001b[0m isim\u001b[38;5;241m=\u001b[39m \u001b[38;5;28minput\u001b[39m(\u001b[38;5;124m\"\u001b[39m\u001b[38;5;124mİsminizi giriniz: \u001b[39m\u001b[38;5;124m\"\u001b[39m)\n\u001b[0;32m      3\u001b[0m dogum_yili \u001b[38;5;241m=\u001b[39m \u001b[38;5;28mint\u001b[39m(\u001b[38;5;28minput\u001b[39m(\u001b[38;5;124m\"\u001b[39m\u001b[38;5;124mDoğum yılınızı giriniz: \u001b[39m\u001b[38;5;124m\"\u001b[39m))\n\u001b[1;32m----> 4\u001b[0m \u001b[38;5;28mprint\u001b[39m(\u001b[38;5;124mf\u001b[39m\u001b[38;5;124m\"\u001b[39m\u001b[38;5;132;01m{\u001b[39;00m\u001b[43myas_hesaplayici\u001b[49m\u001b[43m(\u001b[49m\u001b[43mdogum_yili\u001b[49m\u001b[43m)\u001b[49m\u001b[38;5;132;01m}\u001b[39;00m\u001b[38;5;124m, \u001b[39m\u001b[38;5;124m\"\u001b[39m)\n",
      "Cell \u001b[1;32mIn[8], line 9\u001b[0m, in \u001b[0;36myas_hesaplayici\u001b[1;34m(dogum_yili)\u001b[0m\n\u001b[0;32m      7\u001b[0m şimdiki_yil \u001b[38;5;241m=\u001b[39m \u001b[38;5;241m2024\u001b[39m\n\u001b[0;32m      8\u001b[0m yas \u001b[38;5;241m=\u001b[39m şimdiki_yil \u001b[38;5;241m-\u001b[39m dogum_yili\n\u001b[1;32m----> 9\u001b[0m \u001b[38;5;28;01mreturn\u001b[39;00m \u001b[43memekli_hesaplayici\u001b[49m\u001b[43m(\u001b[49m\u001b[43myas\u001b[49m\u001b[43m)\u001b[49m\n",
      "\u001b[1;31mTypeError\u001b[0m: emekli_hesaplayici() missing 1 required positional argument: 'isim'"
     ]
    }
   ],
   "source": [
    "def main():\n",
    "    isim= input(\"İsminizi giriniz: \")\n",
    "    dogum_yili = int(input(\"Doğum yılınızı giriniz: \"))\n",
    "    print(f\"{yas_hesaplayici(dogum_yili, isim)}, \")\n",
    "\n",
    "def yas_hesaplayici(dogum_yili):\n",
    "    şimdiki_yil = 2024\n",
    "    yas = şimdiki_yil - dogum_yili\n",
    "    return emekli_hesaplayici(yas, isim)  \n",
    "def emekli_hesaplayici(yas, isim):\n",
    "    if yas >= 65:\n",
    "        return f\"Emekli oldunuz\"\n",
    "    else:\n",
    "        kalan_yil = 65 - yas\n",
    "        return f\"{isim} emekliğine {kalan_yil} kaldı.\"\n",
    "main()"
   ]
  }
 ],
 "metadata": {
  "kernelspec": {
   "display_name": "Python 3",
   "language": "python",
   "name": "python3"
  },
  "language_info": {
   "codemirror_mode": {
    "name": "ipython",
    "version": 3
   },
   "file_extension": ".py",
   "mimetype": "text/x-python",
   "name": "python",
   "nbconvert_exporter": "python",
   "pygments_lexer": "ipython3",
   "version": "3.13.0"
  }
 },
 "nbformat": 4,
 "nbformat_minor": 2
}
