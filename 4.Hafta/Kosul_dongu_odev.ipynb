{
 "cells": [
  {
   "cell_type": "markdown",
   "id": "409f0f4a",
   "metadata": {},
   "source": [
    "**Ödev-1:** Kullanıcıdan maaş bilgisini istenir ve bu bilgiye göre maaşından ne kadar vergi kesileceğini hesaplanır. Kullanıcının geliri;\n",
    "\n",
    "1. 10000 ve altındaysa maaşından %5 kesinti olur.\n",
    "2. 25000 ve altındaysa maaşından %10 kesinti olur.\n",
    "3. 45000 ve altındaysa maaşından %25 kesinti olur.\n",
    "4. Diğer koşullarda %30 kesinti olur.\n",
    "\n",
    "Bu durumlara göre kullanıcının yeni maaşı yazdırılır."
   ]
  },
  {
   "cell_type": "code",
   "execution_count": 4,
   "id": "5246e510",
   "metadata": {},
   "outputs": [
    {
     "name": "stdout",
     "output_type": "stream",
     "text": [
      "Net maaşınız: 9900.0\n"
     ]
    }
   ],
   "source": [
    "maas = int(input(\"Maaşınızı girin: \"))\n",
    "if maas <= 10000:\n",
    "    kesinti = maas * 0.05\n",
    "    net_maas = maas - kesinti\n",
    "    print(\"Net maaşınız:\", net_maas)\n",
    "elif maas <= 25000:\n",
    "    kesinti = maas * 0.1\n",
    "    net_maas = maas - kesinti\n",
    "    print(\"Net maaşınız:\", net_maas)\n",
    "elif maas > 45000:\n",
    "    kesinti = maas * 0.25\n",
    "    net_maas = maas - kesinti\n",
    "    print(\"Net maaşınız:\", net_maas)\n",
    "else:\n",
    "    kesinti = maas * 0.3\n",
    "    net_maas = maas - kesinti\n",
    "    print(\"Net maaşınız:\", net_maas)"
   ]
  },
  {
   "cell_type": "markdown",
   "id": "f5fe8798",
   "metadata": {},
   "source": [
    "**Ödev-2:** Kullanıcıdan kullanıcı adı ve şifre oluşturmasını istenir. Şifrenin uzunluğu altı haneye ulaşmışsa hesabınız oluşturuldu mesajı alınır, altı haneden azsa altı haneli şifre oluşturması gerektiğinin mesajı alınır. *(Sadece koşul kullanılması yeterli.)*"
   ]
  },
  {
   "cell_type": "code",
   "execution_count": 10,
   "id": "6acffe57",
   "metadata": {},
   "outputs": [
    {
     "name": "stdout",
     "output_type": "stream",
     "text": [
      "----Kayıt Sayfasına Hoş Geldiniz----\n",
      "Kayıt başarılı, Hoş geldin adolf hitler!\n"
     ]
    }
   ],
   "source": [
    "print(\"----Kayıt Sayfasına Hoş Geldiniz----\")\n",
    "try: \n",
    "    kullanici_adi = input(\"Kullanıcı adınızı girin: \")\n",
    "    sifre = input(\"Şifrenizi girin: \")\n",
    "    if len(sifre) < 6:\n",
    "        print(\"Şifre en az 6 karakter olmalıdır.\")\n",
    "    else:\n",
    "        print(f\"Kayıt başarılı, Hoş geldin {kullanici_adi}!\")\n",
    "except Exception as e:\n",
    "    print(\"Bir hata oluştu:\", e)"
   ]
  },
  {
   "cell_type": "markdown",
   "id": "aaccf11a",
   "metadata": {},
   "source": [
    "**Ödev-3:** Bir önceki örnek geliştirilir.\n",
    "\n",
    "1. Kullanıcı girdiği şifre 5 ve 10 hane arasında olmak zorunda.\n",
    "2. Eğer bu koşula uyuyorsa \"Hesabınız oluşturuldu.\" mesajı alır.\n",
    "3. Koşulu sağlamıyorsa \"Lütfen girdiniz şifre 5 haneden az 10 haneden fazla olmasın!\" uyarısı alır.\n",
    "4. Bunu oluştururken kullanıcı istediğimiz şartlarda şifre oluşturana kadar sormaya devam eder"
   ]
  },
  {
   "cell_type": "code",
   "execution_count": null,
   "id": "039e50dc",
   "metadata": {},
   "outputs": [
    {
     "name": "stdout",
     "output_type": "stream",
     "text": [
      "Şifre 5 ile 10 karakter arasında olmalıdır.\n",
      "Şifre 5 ile 10 karakter arasında olmalıdır.\n",
      "Kayıt başarılı, Hoş geldin adolf !\n"
     ]
    }
   ],
   "source": [
    "while True:\n",
    "    try:\n",
    "        kullanici_adi = input(\"Kullanıcı adınızı girin: \").strip()\n",
    "        sifre = input(\"Şifrenizi girin: \").strip() \n",
    "        if 5 < len(sifre) < 10:\n",
    "            print(f\"Kayıt başarılı, Hoş geldin {kullanici_adi}!\"),\n",
    "            break\n",
    "        else:\n",
    "            print(\"Şifre 5 ile 10 karakter arasında olmalıdır.\")\n",
    "    except Exception as e:\n",
    "        print(\"Bir hata oluştu:\", e)\n"
   ]
  },
  {
   "cell_type": "markdown",
   "id": "8ba81863",
   "metadata": {},
   "source": [
    "**Ödev-4:** Kullanıcıdan isim ve şifre isteyeceğiz ve şifre girişi için üç hak verilir.\n",
    "\n",
    "1. Eğer önceden tanımlı şifre ile kullanıcıdan gelen şifre aynıysa \"Giriş yapıldı.\" yazar.\n",
    "2. Şifre girişi yanlışsa \"Yanlış şifre girildi!\" uyarısı verilsin ve üç yanlış denemede program biter.\n",
    "3. Tercihe göre kalan hak bilgisi verilir."
   ]
  },
  {
   "cell_type": "code",
   "execution_count": null,
   "id": "8f45ea0c",
   "metadata": {},
   "outputs": [
    {
     "name": "stdout",
     "output_type": "stream",
     "text": [
      "Kullanıcı adı veya şifre hatalı. Dikkat hesabınızın silinmesine 3 girişim kaldı.\n",
      "Kullanıcı adı veya şifre hatalı. Dikkat hesabınızın silinmesine 2 girişim kaldı.\n",
      "Kullanıcı adı veya şifre hatalı. Dikkat hesabınızın silinmesine 1 girişim kaldı.\n",
      "3 başarısız girişimden sonra adolf hesabınız güvenlik amacaıyla kilitlendi.\n"
     ]
    }
   ],
   "source": [
    "accounts = {\n",
    "    \"adolf\": \"hitler\",\n",
    "    \"mussolini\": \"fascism\",\n",
    "    \"mustafa\": \"kemal\",\n",
    "    \"elon\": \"musk\"\n",
    "}\n",
    "login_attempts = 0\n",
    "\n",
    "while login_attempts < 3:\n",
    "    username = input(\"Kullanıcı adınızı girin: \").strip()\n",
    "    password = input(\"Şifrenizi girin: \").strip()\n",
    "    if username in accounts and accounts[username] == password:\n",
    "        print(f\"Giriş başarılı, Hoş geldin {username}!\")\n",
    "        break\n",
    "    else:\n",
    "        login_attempts += 1\n",
    "        print(f\"Kullanıcı adı veya şifre hatalı. Dikkat hesabınızın silinmesine {4-login_attempts} girişim kaldı.\")\n",
    "\n",
    "if login_attempts == 3 and username in accounts:\n",
    "    print(f\"3 başarısız girişimden sonra {username} hesabınız güvenlik amacaıyla kilitlendi.\")\n",
    "else:\n",
    "    print(\"Başka bir kullanıcı ile giriş yapmayı deneyin.\")"
   ]
  }
 ],
 "metadata": {
  "kernelspec": {
   "display_name": "base",
   "language": "python",
   "name": "python3"
  },
  "language_info": {
   "codemirror_mode": {
    "name": "ipython",
    "version": 3
   },
   "file_extension": ".py",
   "mimetype": "text/x-python",
   "name": "python",
   "nbconvert_exporter": "python",
   "pygments_lexer": "ipython3",
   "version": "3.13.5"
  }
 },
 "nbformat": 4,
 "nbformat_minor": 5
}
