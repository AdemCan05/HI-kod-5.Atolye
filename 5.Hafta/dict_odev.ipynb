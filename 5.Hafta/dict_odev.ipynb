{
 "cells": [
  {
   "cell_type": "markdown",
   "metadata": {},
   "source": [
    "### Ödev 1\n",
    "\n",
    "Bir sözlük oluşturulur ve bu sözlükte öğrencilerin isimleri ve Matematik, Fizik, Kimya notları tutulur. Kullanıcıdan isim ve ders ismi(Matematik, Fizik, Kimya) istenir ve bu bilgilere göre çıktı verilir."
   ]
  },
  {
   "cell_type": "code",
   "execution_count": 3,
   "metadata": {},
   "outputs": [
    {
     "name": "stdout",
     "output_type": "stream",
     "text": [
      "Öğrenci bulununamadı\n"
     ]
    }
   ],
   "source": [
    "ogrenci_listesi ={\n",
    "    \"Adem Can\": {\n",
    "            \"Fizik\":\"90\",\n",
    "            \"Matematik\":\"86\",\n",
    "            \"Kimya\":\"88\"\n",
    "             },\n",
    "    \"Melisa Demirci\":{\n",
    "            \"Fizik\":\"92\",\n",
    "            \"Matematik\":\"89\",\n",
    "            \"Kimya\":\"100\"\n",
    "             },\n",
    "    \"Yusuf İlhan\":{\n",
    "            \"Fizik\":\"96\",\n",
    "            \"Matematik\":\"100\",\n",
    "            \"Kimya\":\"89\"\n",
    "             },\n",
    "    \"Uygar Köse\":{\n",
    "            \"Fizik\":\"78\",\n",
    "            \"Matematik\":\"80\",\n",
    "            \"Kimya\":\"90\"\n",
    "             }\n",
    "}\n",
    "\n",
    "isim = input(\"Öğrenci ismini giriniz: \")\n",
    "ders = input(\"Ders ismini giriniz: \")\n",
    "if isim not in ogrenci_listesi:\n",
    "    print(\"Öğrenci bulununamadı\")\n",
    "else:\n",
    "    print(f\"{isim} {ders} dersindeki notu:\",ogrenci_listesi[isim][ders])"
   ]
  },
  {
   "cell_type": "markdown",
   "metadata": {},
   "source": [
    "### Ödev 2\n",
    "\n",
    "Sözlük üzerinde değerleri değiştirme, yeni değer ekleme, kullanıcıya ulaşmak istediği bilgileri sorma gibi uygulamalar yapın."
   ]
  },
  {
   "cell_type": "code",
   "execution_count": null,
   "metadata": {},
   "outputs": [],
   "source": []
  }
 ],
 "metadata": {
  "kernelspec": {
   "display_name": "Python 3",
   "language": "python",
   "name": "python3"
  },
  "language_info": {
   "codemirror_mode": {
    "name": "ipython",
    "version": 3
   },
   "file_extension": ".py",
   "mimetype": "text/x-python",
   "name": "python",
   "nbconvert_exporter": "python",
   "pygments_lexer": "ipython3",
   "version": "3.13.0"
  }
 },
 "nbformat": 4,
 "nbformat_minor": 2
}
