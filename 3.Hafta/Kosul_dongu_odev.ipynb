{
 "cells": [
  {
   "cell_type": "markdown",
   "id": "409f0f4a",
   "metadata": {},
   "source": [
    "**Ödev-1:** Kullanıcıdan maaş bilgisini istenir ve bu bilgiye göre maaşından ne kadar vergi kesileceğini hesaplanır. Kullanıcının geliri;\n",
    "\n",
    "1. 10000 ve altındaysa maaşından %5 kesinti olur.\n",
    "2. 25000 ve altındaysa maaşından %10 kesinti olur.\n",
    "3. 45000 ve altındaysa maaşından %25 kesinti olur.\n",
    "4. Diğer koşullarda %30 kesinti olur.\n",
    "\n",
    "Bu durumlara göre kullanıcının yeni maaşı yazdırılır."
   ]
  },
  {
   "cell_type": "code",
   "execution_count": 2,
   "id": "5246e510",
   "metadata": {},
   "outputs": [
    {
     "name": "stdout",
     "output_type": "stream",
     "text": [
      "Kesintiler dahilinde yeni maaşınız:  95\n"
     ]
    }
   ],
   "source": [
    "maas = int(input(\"Maaş bilgisi giriniz: \"))\n",
    "son_maas = 0\n",
    "\n",
    "if maas <= 10000:\n",
    "    son_maas= maas - (maas * 5 // 100)\n",
    "elif 10000 < maas <= 25000:\n",
    "    son_maas = maas - (maas * 10 // 100)\n",
    "elif 25000 < maas <= 45000:\n",
    "    son_maas = maas - (maas * 25 // 100)\n",
    "else:\n",
    "    son_maas= maas - (maas * 30 // 100)\n",
    "\n",
    "print(\"Kesintiler dahilinde yeni maaşınız: \",son_maas)"
   ]
  },
  {
   "cell_type": "markdown",
   "id": "f5fe8798",
   "metadata": {},
   "source": [
    "**Ödev-2:** Kullanıcıdan kullanıcı adı ve şifre oluşturmasını istenir. Şifrenin uzunluğu altı haneye ulaşmışsa hesabınız oluşturuldu mesajı alınır, altı haneden azsa altı haneli şifre oluşturması gerektiğinin mesajı alınır. *(Sadece koşul kullanılması yeterli.)*"
   ]
  },
  {
   "cell_type": "code",
   "execution_count": 3,
   "id": "6acffe57",
   "metadata": {},
   "outputs": [
    {
     "name": "stdout",
     "output_type": "stream",
     "text": [
      "6 haneli şifre girmelisiniz.\n"
     ]
    }
   ],
   "source": [
    "kullanici_Adi= input(\"Kullanıcı adı oluşturunuz: \")\n",
    "sifre= input(\"En az 6 haneli bir şifre oluşturunuz: \")\n",
    "\n",
    "if len(sifre) < 6:\n",
    "    print(\"6 haneli şifre girmelisiniz.\")\n",
    "else:\n",
    "    print(\"Hesabınız oluşturuldu.\")"
   ]
  },
  {
   "cell_type": "markdown",
   "id": "aaccf11a",
   "metadata": {},
   "source": [
    "**Ödev-3:** Bir önceki örnek geliştirilir.\n",
    "\n",
    "1. Kullanıcı girdiği şifre 5 ve 10 hane arasında olmak zorunda.\n",
    "2. Eğer bu koşula uyuyorsa \"Hesabınız oluşturuldu.\" mesajı alır.\n",
    "3. Koşulu sağlamıyorsa \"Lütfen girdiniz şifre 5 haneden az 10 haneden fazla olmasın!\" uyarısı alır.\n",
    "4. Bunu oluştururken kullanıcı istediğimiz şartlarda şifre oluşturana kadar sormaya devam eder"
   ]
  },
  {
   "cell_type": "code",
   "execution_count": 1,
   "id": "039e50dc",
   "metadata": {},
   "outputs": [
    {
     "name": "stdout",
     "output_type": "stream",
     "text": [
      "Hesabınız oluşturuldu.\n"
     ]
    }
   ],
   "source": [
    "kullanici_Adi= input(\"Kullanıcı adı oluşturunuz: \")\n",
    "sifre= input(\"En az 5 en çok 10 haneli bir şifre oluşturunuz: \")\n",
    "\n",
    "while True:\n",
    "    if len(sifre) < 5 or len(sifre) > 10:\n",
    "        sifre= input(\"Lütfen girdiniz şifre 5 haneden az 10 haneden fazla olmasın! :\")\n",
    "    else:\n",
    "        print(\"Hesabınız oluşturuldu.\")\n",
    "        break"
   ]
  },
  {
   "cell_type": "markdown",
   "id": "8ba81863",
   "metadata": {},
   "source": [
    "**Ödev-4:** Kullanıcıdan isim ve şifre isteyeceğiz ve şifre girişi için üç hak verilir.\n",
    "\n",
    "1. Eğer önceden tanımlı şifre ile kullanıcıdan gelen şifre aynıysa \"Giriş yapıldı.\" yazar.\n",
    "2. Şifre girişi yanlışsa \"Yanlış şifre girildi!\" uyarısı verilsin ve üç yanlış denemede program biter.\n",
    "3. Tercihe göre kalan hak bilgisi verilir."
   ]
  },
  {
   "cell_type": "code",
   "execution_count": 7,
   "id": "8f45ea0c",
   "metadata": {},
   "outputs": [
    {
     "name": "stdout",
     "output_type": "stream",
     "text": [
      "Kullanıcı adı bulunamadı.\n",
      "Yanlış şifre girildi. Kalan hakkınız: 2\n",
      "Giriş yapıldı.\n"
     ]
    }
   ],
   "source": [
    "kullanici_Bilgileri = {\n",
    "    'ademo': 'Ademcan1051'\n",
    "}\n",
    "giris_hakki = 3\n",
    "\n",
    "while giris_hakki > 0:\n",
    "    giris_kullanici = input(\"Kullanıcı adınızı girin: \")\n",
    "    giris_sifre = input(\"Şifrenizi giriniz: \")\n",
    "\n",
    "    if giris_kullanici in kullanici_Bilgileri:\n",
    "        if kullanici_Bilgileri[giris_kullanici] == giris_sifre:\n",
    "            print(\"Giriş yapıldı.\")\n",
    "            break\n",
    "        else:\n",
    "            giris_hakki -= 1\n",
    "            print(f\"Yanlış şifre girildi. Kalan hakkınız: {giris_hakki}\")\n",
    "    else:\n",
    "        print(f\"Kullanıcı adı bulunamadı.\")\n",
    "\n",
    "if giris_hakki == 0:\n",
    "    print(\"Giriş hakkınız bitti.\")\n"
   ]
  }
 ],
 "metadata": {
  "kernelspec": {
   "display_name": "Python 3",
   "language": "python",
   "name": "python3"
  },
  "language_info": {
   "codemirror_mode": {
    "name": "ipython",
    "version": 3
   },
   "file_extension": ".py",
   "mimetype": "text/x-python",
   "name": "python",
   "nbconvert_exporter": "python",
   "pygments_lexer": "ipython3",
   "version": "3.13.0"
  }
 },
 "nbformat": 4,
 "nbformat_minor": 5
}
