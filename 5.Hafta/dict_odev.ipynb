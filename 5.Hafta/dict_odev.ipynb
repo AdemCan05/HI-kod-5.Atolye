{
 "cells": [
  {
   "cell_type": "markdown",
   "metadata": {},
   "source": [
    "### Ödev 1\n",
    "\n",
    "Bir sözlük oluşturulur ve bu sözlükte öğrencilerin isimleri ve Matematik, Fizik, Kimya notları tutulur. Kullanıcıdan isim ve ders ismi(Matematik, Fizik, Kimya) istenir ve bu bilgilere göre çıktı verilir."
   ]
  },
  {
   "cell_type": "code",
   "execution_count": 5,
   "metadata": {},
   "outputs": [
    {
     "name": "stdout",
     "output_type": "stream",
     "text": [
      "Keanu Reeves's grade in Chemistry is: 87\n"
     ]
    }
   ],
   "source": [
    "student_grades = {\n",
    "    \"don torissi\":{\n",
    "        \"mathematics\":\"100\",\n",
    "        \"physics\":\"96\",\n",
    "        \"chemistry\":\"100\"\n",
    "    },\n",
    "    \"johnny depp\":{\n",
    "        \"mathematics\":\"95\",\n",
    "        \"physics\":\"90\",\n",
    "        \"chemistry\":\"93\"\n",
    "    },\n",
    "    \"john doe\":{\n",
    "        \"mathematics\":\"90\",\n",
    "        \"physics\":\"85\",\n",
    "        \"chemistry\":\"88\"\n",
    "    },\n",
    "    \"keanu reeves\":{\n",
    "        \"mathematics\":\"85\",\n",
    "        \"physics\":\"80\",\n",
    "        \"chemistry\":\"87\"\n",
    "    }\n",
    "}\n",
    "def get_grade(student_name, subject):\n",
    "    for student,subjects in student_grades.items():\n",
    "        if student == student_name:\n",
    "            for sub,grade in subjects.items():\n",
    "                if sub == subject:\n",
    "                    print(f\"{student_name.title()}'s grade in {subject.title()} is: {grade}\")\n",
    "\n",
    "student_name = input(\"Enter the student's name: \").lower()\n",
    "subject = input(\"Enter the subject: \").lower()\n",
    "grade = get_grade(student_name, subject)"
   ]
  },
  {
   "cell_type": "markdown",
   "metadata": {},
   "source": [
    "### Ödev 2\n",
    "\n",
    "Sözlük üzerinde değerleri değiştirme, yeni değer ekleme, kullanıcıya ulaşmak istediği bilgileri sorma gibi uygulamalar yapın."
   ]
  },
  {
   "cell_type": "code",
   "execution_count": 10,
   "metadata": {},
   "outputs": [
    {
     "name": "stdout",
     "output_type": "stream",
     "text": [
      "\n",
      "Options:\n",
      "1. Get Grade\n",
      "2. New Grade\n",
      "3. Exit\n",
      "Keanu Reeves's grade in Chemistry is: 87\n",
      "\n",
      "Options:\n",
      "1. Get Grade\n",
      "2. New Grade\n",
      "3. Exit\n",
      "Exiting...\n"
     ]
    }
   ],
   "source": [
    "student_grades = {\n",
    "    \"don torissi\":{\n",
    "        \"mathematics\":\"100\",\n",
    "        \"physics\":\"96\",\n",
    "        \"chemistry\":\"100\"\n",
    "    },\n",
    "    \"johnny depp\":{\n",
    "        \"mathematics\":\"95\",\n",
    "        \"physics\":\"90\",\n",
    "        \"chemistry\":\"93\"\n",
    "    },\n",
    "    \"john doe\":{\n",
    "        \"mathematics\":\"90\",\n",
    "        \"physics\":\"85\",\n",
    "        \"chemistry\":\"88\"\n",
    "    },\n",
    "    \"keanu reeves\":{\n",
    "        \"mathematics\":\"85\",\n",
    "        \"physics\":\"80\",\n",
    "        \"chemistry\":\"87\"\n",
    "    }\n",
    "}\n",
    "\n",
    "def get_grade(student_name, subject):\n",
    "    if student_name in student_grades:\n",
    "        subjects = student_grades[student_name]\n",
    "        if subject in subjects:\n",
    "            grade = subjects[subject]\n",
    "            print(f\"{student_name.title()}'s grade in {subject.title()} is: {grade}\")\n",
    "        else:\n",
    "            print(f\"Subject '{subject.title()}' not found for {student_name.title()}.\")\n",
    "    else:\n",
    "        print(f\"Student '{student_name.title()}' not found.\")\n",
    "\n",
    "def new_grade(student_name, subject, grade):\n",
    "    if student_name in student_grades:\n",
    "        student_grades[student_name][subject] = grade\n",
    "    else:\n",
    "        student_grades[student_name] = {subject: grade}\n",
    "    print(f\"Added/Updated {student_name.title()}'s grade in {subject.title()} to {grade}.\")\n",
    "\n",
    "\n",
    "def main():\n",
    "    while True:\n",
    "        print(\"\\nOptions:\")\n",
    "        print(\"1. Get Grade\")\n",
    "        print(\"2. New Grade\")\n",
    "        print(\"3. Exit\")\n",
    "\n",
    "        choice = input(\"Choose an option (1-3): \")\n",
    "\n",
    "        if choice == \"1\":\n",
    "            student_name = input(\"Enter the student's name: \").lower()\n",
    "            subject = input(\"Enter the subject: \").lower()\n",
    "            get_grade(student_name, subject)\n",
    "        elif choice == \"2\":\n",
    "            student_name = input(\"Enter the student's name: \").lower()\n",
    "            subject = input(\"Enter the subject: \").lower()\n",
    "            grade = input(\"Enter the grade: \")\n",
    "            new_grade(student_name, subject, grade)\n",
    "        elif choice == \"3\":\n",
    "            print(\"Exiting...\")\n",
    "            break\n",
    "        else:\n",
    "            print(\"Invalid choice. Please try again.\")\n",
    "\n",
    "main()\n"
   ]
  }
 ],
 "metadata": {
  "kernelspec": {
   "display_name": "base",
   "language": "python",
   "name": "python3"
  },
  "language_info": {
   "codemirror_mode": {
    "name": "ipython",
    "version": 3
   },
   "file_extension": ".py",
   "mimetype": "text/x-python",
   "name": "python",
   "nbconvert_exporter": "python",
   "pygments_lexer": "ipython3",
   "version": "3.13.5"
  }
 },
 "nbformat": 4,
 "nbformat_minor": 2
}
