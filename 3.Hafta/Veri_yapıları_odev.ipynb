{
 "cells": [
  {
   "cell_type": "markdown",
   "id": "032d81b2",
   "metadata": {},
   "source": [
    "# 1\n",
    "x = 3 ----> floata çevirelim. Çevirdikten sonra beri tipinide yazdıralım.\n",
    "\n",
    "y = 4.5 -----> integere çevirelim. Çevirdikten sonra beri tipinide yazdıralım.\n",
    "\n",
    "z = \"8\" -----> integera çevirelim. Çevirdikten sonra beri tipinide yazdıralım.\n",
    "\n",
    "a = \"12\" -----> floata çevirelim. Çevirdikten sonra beri tipinide yazdıralım.\n",
    "\n",
    "b = \"46.8\" ------> integera çevirelim. Çevirdikten sonra beri tipinide yazdıralım."
   ]
  },
  {
   "cell_type": "code",
   "execution_count": null,
   "id": "f1b735c0",
   "metadata": {},
   "outputs": [
    {
     "data": {
      "text/plain": [
       "float"
      ]
     },
     "execution_count": 6,
     "metadata": {},
     "output_type": "execute_result"
    }
   ],
   "source": [
    "# veri tipleri\n",
    "x = 3\n",
    "y = 4.5\n",
    "z = \"8\"\n",
    "a = \"12\"\n",
    "b = \"46.8\"\n",
    "\n",
    "\n",
    "type(float(x)) # <class 'float'>"
   ]
  },
  {
   "cell_type": "code",
   "execution_count": 7,
   "id": "fea64188",
   "metadata": {},
   "outputs": [
    {
     "data": {
      "text/plain": [
       "int"
      ]
     },
     "execution_count": 7,
     "metadata": {},
     "output_type": "execute_result"
    }
   ],
   "source": [
    "type(int(y)) # <class 'int'>"
   ]
  },
  {
   "cell_type": "code",
   "execution_count": 8,
   "id": "e116dceb",
   "metadata": {},
   "outputs": [
    {
     "data": {
      "text/plain": [
       "int"
      ]
     },
     "execution_count": 8,
     "metadata": {},
     "output_type": "execute_result"
    }
   ],
   "source": [
    "type(int(z)) # <class 'int'>"
   ]
  },
  {
   "cell_type": "code",
   "execution_count": 9,
   "id": "560cc0d5",
   "metadata": {},
   "outputs": [
    {
     "data": {
      "text/plain": [
       "float"
      ]
     },
     "execution_count": 9,
     "metadata": {},
     "output_type": "execute_result"
    }
   ],
   "source": [
    "type(float(a)) # <class 'float'>"
   ]
  },
  {
   "cell_type": "code",
   "execution_count": 12,
   "id": "3a1fed61",
   "metadata": {},
   "outputs": [
    {
     "data": {
      "text/plain": [
       "int"
      ]
     },
     "execution_count": 12,
     "metadata": {},
     "output_type": "execute_result"
    }
   ],
   "source": [
    "# type(int(b)) # hata verecek çünkü b bir str ve doğrudan int'e çevrilemez\n",
    "type(int(float(b))) # <class 'int'>"
   ]
  },
  {
   "cell_type": "markdown",
   "id": "95509718",
   "metadata": {},
   "source": [
    "# 2 \n",
    "İsimlerden oluşan üç değişkene yaş değerleri atanır. Belirlenen üç değişken birbiriyle karşılaştırma operatörleri ile karşılaştırılır. Bu karşılaştırmalara mantıksal operatörler de eklenir."
   ]
  },
  {
   "cell_type": "code",
   "execution_count": null,
   "id": "50f77b4f",
   "metadata": {},
   "outputs": [],
   "source": [
    "# yaş bilgileri\n",
    "Ahmet  = 19\n",
    "Melis = 12\n",
    "Ada = 15\n",
    "\n",
    "# yaş karşılaştırması\n",
    "\n",
    "if Ahmet > Melis and Ahmet > Ada:\n",
    "    print(\"Ahmet en büyük\")\n",
    "elif Melis > Ahmet and Melis > Ada:\n",
    "    print(\"Melis en büyük\")\n",
    "else:\n",
    "    print(\"Ada en büyük\")\n"
   ]
  },
  {
   "cell_type": "markdown",
   "id": "a1a0eb92",
   "metadata": {},
   "source": [
    "# 3\n",
    "Kullanıcıdan iki değer girmesini istenir. Girilen değerlerin toplama, çıkarma, çarpma, bölme sonuçlarını yazdırılır."
   ]
  },
  {
   "cell_type": "code",
   "execution_count": null,
   "id": "c361e45a",
   "metadata": {},
   "outputs": [
    {
     "name": "stdout",
     "output_type": "stream",
     "text": [
      "Toplama:  3\n",
      "Çıkarma:  -1\n",
      "Çarpma:  2\n",
      "Bölme:  0.5\n"
     ]
    }
   ],
   "source": [
    "# kullanıcıdan sayı alma\n",
    "sayi = int(input(\"Bir sayı girin: \"))\n",
    "sayi2 = int(input(\"Bir sayı daha girin: \"))\n",
    "\n",
    "# işlemler\n",
    "print(\"Toplama: \",sayi + sayi2)\n",
    "print(\"Çıkarma: \",sayi - sayi2)\n",
    "print(\"Çarpma: \",sayi * sayi2)\n",
    "print(\"Bölme: \",sayi / sayi2)"
   ]
  },
  {
   "cell_type": "markdown",
   "id": "060b0bea",
   "metadata": {},
   "source": [
    "# 4\n",
    "Kullanıcıdan isim, yaş, şehir ve meslek bilgilerini istenir ve cevaplarını yazdırılır."
   ]
  },
  {
   "cell_type": "code",
   "execution_count": 33,
   "id": "f0702f0c",
   "metadata": {},
   "outputs": [
    {
     "name": "stdout",
     "output_type": "stream",
     "text": [
      "İsim: adolf hitler\n",
      "Yaş: 36\n",
      "Şehir: hamburg\n",
      "Meslek: lider\n"
     ]
    }
   ],
   "source": [
    "# kullanıcı bilgileri\n",
    "kullanici_bilgi = {\n",
    "    \"İsim\": input(\"İsminizi girin: \"),\n",
    "    \"Yaş\": input(\"Yaşınızı girin: \"),\n",
    "    \"Şehir\": input(\"Şehrinizi girin: \"),\n",
    "    \"Meslek\": input(\"Mesleğinizi girin: \")\n",
    "}\n",
    "# kullanıcı bilgilerini yazdırma\n",
    "for key, value in kullanici_bilgi.items():\n",
    "    print(f\"{key}: {value}\")"
   ]
  },
  {
   "cell_type": "markdown",
   "id": "55e1a34e",
   "metadata": {},
   "source": [
    "# 5\n",
    "\"Hi-Kod Veri Bilimi Atölyesi\" ifadesini bir değişkene tanımlanır.\n",
    "\n",
    "\n",
    " 1. İfadedeki her bir kelimeyi (\"Hi-Kod\", \"Veri\", \"Bilimi\", \"Atölyesi\") değişken içinden seçilir. \n",
    " 2. İfadeyi hepsini büyük harf olacak hale çevrilir. (\"HI-KOD VERİ BİLİMİ ATÖLYESİ\") \n",
    " 3. İfadeyi hepsini büyük harf olacak hale çevrilir.(\"hi-kod veri bilimi atölyesi\") \n",
    "\n",
    "\"0123456789\" ifadesindeki yalnızca çift sayıları ve yalnızca tek sayıları seçilir. (\"02468\", \"13579\")"
   ]
  },
  {
   "cell_type": "code",
   "execution_count": 28,
   "id": "0fc1bc40",
   "metadata": {},
   "outputs": [
    {
     "data": {
      "text/plain": [
       "'Hi-Kod'"
      ]
     },
     "execution_count": 28,
     "metadata": {},
     "output_type": "execute_result"
    }
   ],
   "source": [
    "kurs[0:6]"
   ]
  },
  {
   "cell_type": "code",
   "execution_count": 29,
   "id": "70f6957a",
   "metadata": {},
   "outputs": [
    {
     "data": {
      "text/plain": [
       "'Veri'"
      ]
     },
     "execution_count": 29,
     "metadata": {},
     "output_type": "execute_result"
    }
   ],
   "source": [
    "kurs[7:11]"
   ]
  },
  {
   "cell_type": "code",
   "execution_count": 30,
   "id": "e80b44ba",
   "metadata": {},
   "outputs": [
    {
     "data": {
      "text/plain": [
       "'Bilim'"
      ]
     },
     "execution_count": 30,
     "metadata": {},
     "output_type": "execute_result"
    }
   ],
   "source": [
    "kurs[12:17]"
   ]
  },
  {
   "cell_type": "code",
   "execution_count": 31,
   "id": "c02d93e4",
   "metadata": {},
   "outputs": [
    {
     "data": {
      "text/plain": [
       "' Atölyesi'"
      ]
     },
     "execution_count": 31,
     "metadata": {},
     "output_type": "execute_result"
    }
   ],
   "source": [
    "kurs[18:]"
   ]
  },
  {
   "cell_type": "code",
   "execution_count": 16,
   "id": "5b419e6a",
   "metadata": {},
   "outputs": [
    {
     "data": {
      "text/plain": [
       "'HI-KOD VERI BILIMI ATÖLYESI'"
      ]
     },
     "execution_count": 16,
     "metadata": {},
     "output_type": "execute_result"
    }
   ],
   "source": [
    "kurs.upper()"
   ]
  },
  {
   "cell_type": "code",
   "execution_count": 17,
   "id": "375be2b3",
   "metadata": {},
   "outputs": [
    {
     "data": {
      "text/plain": [
       "'hi-kod veri bilimi atölyesi'"
      ]
     },
     "execution_count": 17,
     "metadata": {},
     "output_type": "execute_result"
    }
   ],
   "source": [
    "kurs.lower()"
   ]
  },
  {
   "cell_type": "code",
   "execution_count": 22,
   "id": "fdf33b6c",
   "metadata": {},
   "outputs": [
    {
     "data": {
      "text/plain": [
       "'02468'"
      ]
     },
     "execution_count": 22,
     "metadata": {},
     "output_type": "execute_result"
    }
   ],
   "source": [
    "sayi = \"0123456789\"\n",
    "cift_sayiler = sayi[::2]\n",
    "cift_sayiler"
   ]
  },
  {
   "cell_type": "code",
   "execution_count": 25,
   "id": "367e3e2c",
   "metadata": {},
   "outputs": [
    {
     "data": {
      "text/plain": [
       "'13579'"
      ]
     },
     "execution_count": 25,
     "metadata": {},
     "output_type": "execute_result"
    }
   ],
   "source": [
    "tek_sayilar = sayi[1::2]\n",
    "tek_sayilar"
   ]
  }
 ],
 "metadata": {
  "kernelspec": {
   "display_name": "base",
   "language": "python",
   "name": "python3"
  },
  "language_info": {
   "codemirror_mode": {
    "name": "ipython",
    "version": 3
   },
   "file_extension": ".py",
   "mimetype": "text/x-python",
   "name": "python",
   "nbconvert_exporter": "python",
   "pygments_lexer": "ipython3",
   "version": "3.13.5"
  }
 },
 "nbformat": 4,
 "nbformat_minor": 5
}
